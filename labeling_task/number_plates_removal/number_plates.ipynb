{
 "cells": [
  {
   "cell_type": "code",
   "execution_count": 1,
   "metadata": {},
   "outputs": [
    {
     "name": "stderr",
     "output_type": "stream",
     "text": [
      "[ WARN:0@0.034] global loadsave.cpp:248 findDecoder imread_('image.jpg'): can't open/read file: check file path/integrity\n"
     ]
    },
    {
     "ename": "error",
     "evalue": "OpenCV(4.8.1) /io/opencv/modules/imgproc/src/color.cpp:182: error: (-215:Assertion failed) !_src.empty() in function 'cvtColor'\n",
     "output_type": "error",
     "traceback": [
      "\u001b[0;31m---------------------------------------------------------------------------\u001b[0m",
      "\u001b[0;31merror\u001b[0m                                     Traceback (most recent call last)",
      "\u001b[1;32m/home/muenichs/Workspace_Uni/mark-robotics-idp/labeling_task/number_plates_removal/number_plates.ipynb Cell 1\u001b[0m line \u001b[0;36m1\n\u001b[1;32m      <a href='vscode-notebook-cell:/home/muenichs/Workspace_Uni/mark-robotics-idp/labeling_task/number_plates_removal/number_plates.ipynb#W0sZmlsZQ%3D%3D?line=7'>8</a>\u001b[0m plate_cascade \u001b[39m=\u001b[39m cv2\u001b[39m.\u001b[39mCascadeClassifier(\u001b[39m'\u001b[39m\u001b[39mhaarcascade_russian_plate_number.xml\u001b[39m\u001b[39m'\u001b[39m)\n\u001b[1;32m     <a href='vscode-notebook-cell:/home/muenichs/Workspace_Uni/mark-robotics-idp/labeling_task/number_plates_removal/number_plates.ipynb#W0sZmlsZQ%3D%3D?line=9'>10</a>\u001b[0m \u001b[39m# Convert the image to grayscale\u001b[39;00m\n\u001b[0;32m---> <a href='vscode-notebook-cell:/home/muenichs/Workspace_Uni/mark-robotics-idp/labeling_task/number_plates_removal/number_plates.ipynb#W0sZmlsZQ%3D%3D?line=10'>11</a>\u001b[0m gray \u001b[39m=\u001b[39m cv2\u001b[39m.\u001b[39;49mcvtColor(image, cv2\u001b[39m.\u001b[39;49mCOLOR_BGR2GRAY)\n\u001b[1;32m     <a href='vscode-notebook-cell:/home/muenichs/Workspace_Uni/mark-robotics-idp/labeling_task/number_plates_removal/number_plates.ipynb#W0sZmlsZQ%3D%3D?line=12'>13</a>\u001b[0m \u001b[39m# Detect faces and license plates in the image\u001b[39;00m\n\u001b[1;32m     <a href='vscode-notebook-cell:/home/muenichs/Workspace_Uni/mark-robotics-idp/labeling_task/number_plates_removal/number_plates.ipynb#W0sZmlsZQ%3D%3D?line=13'>14</a>\u001b[0m faces \u001b[39m=\u001b[39m face_cascade\u001b[39m.\u001b[39mdetectMultiScale(gray, scaleFactor\u001b[39m=\u001b[39m\u001b[39m1.1\u001b[39m, minNeighbors\u001b[39m=\u001b[39m\u001b[39m5\u001b[39m)\n",
      "\u001b[0;31merror\u001b[0m: OpenCV(4.8.1) /io/opencv/modules/imgproc/src/color.cpp:182: error: (-215:Assertion failed) !_src.empty() in function 'cvtColor'\n"
     ]
    }
   ],
   "source": [
    "import cv2\n",
    "import numpy as np\n",
    "\n",
    "# Load the image\n",
    "image = cv2.imread('image.jpg')\n",
    "\n",
    "# Create a CascadeClassifier object for license plate detection\n",
    "plate_cascade = cv2.CascadeClassifier('haarcascade_russian_plate_number.xml')\n",
    "\n",
    "# Convert the image to grayscale\n",
    "gray = cv2.cvtColor(image, cv2.COLOR_BGR2GRAY)\n",
    "\n",
    "# Detect license plates in the image\n",
    "plates = plate_cascade.detectMultiScale(gray, scaleFactor=1.1, minNeighbors=5)\n",
    "\n",
    "# Optional: Draw rectangles around the detected license plates\n",
    "for (x, y, w, h) in plates:\n",
    "    cv2.rectangle(image, (x, y), (x+w, y+h), (0, 255, 0), 10)"
   ]
  },
  {
   "cell_type": "code",
   "execution_count": null,
   "metadata": {},
   "outputs": [],
   "source": [
    "# Apply Gaussian blurring to the detected license plates\n",
    "for (x, y, w, h) in plates:\n",
    "    roi = image[y:y+h, x:x+w]\n",
    "    blurred_roi = cv2.GaussianBlur(roi, (255, 255), 0)\n",
    "    image[y:y+h, x:x+w] = blurred_roi\n",
    "\n",
    "# Optional: Display the image with the detected license plates\n",
    "cv2.imshow('Image', image)\n",
    "cv2.waitKey(0)\n",
    "cv2.destroyAllWindows()\n",
    "\n",
    "# Save the anonymized image to disk\n",
    "cv2.imwrite('anonymized_image.jpg', image)"
   ]
  }
 ],
 "metadata": {
  "kernelspec": {
   "display_name": "venv-idp",
   "language": "python",
   "name": "python3"
  },
  "language_info": {
   "codemirror_mode": {
    "name": "ipython",
    "version": 3
   },
   "file_extension": ".py",
   "mimetype": "text/x-python",
   "name": "python",
   "nbconvert_exporter": "python",
   "pygments_lexer": "ipython3",
   "version": "3.11.6"
  }
 },
 "nbformat": 4,
 "nbformat_minor": 2
}
