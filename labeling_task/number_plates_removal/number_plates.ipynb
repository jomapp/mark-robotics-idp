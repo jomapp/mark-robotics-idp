{
 "cells": [
  {
   "cell_type": "code",
   "execution_count": 17,
   "metadata": {},
   "outputs": [
    {
     "name": "stdout",
     "output_type": "stream",
     "text": [
      "[545  25 136  45]\n",
      "[519  28 140  47]\n",
      "[928 169 137  46]\n",
      "[935 167 135  45]\n",
      "[523  23 140  47]\n",
      "[540  23 148  49]\n",
      "[539  23 139  46]\n",
      "[516  25 149  50]\n",
      "[933 170 135  45]\n",
      "[543  25 144  48]\n",
      "[931 169 135  45]\n",
      "[530  22 138  46]\n",
      "[539  22 131  44]\n",
      "[539  21 138  46]\n",
      "[548  28 138  46]\n",
      "[543  25 132  44]\n",
      "[544  26 136  45]\n",
      "[557  30 121  40]\n"
     ]
    }
   ],
   "source": [
    "import cv2\n",
    "import numpy as np\n",
    "import glob\n",
    "\n",
    "path = r'./images_before_removal_custom_handling/*.jpg'\n",
    "imagePaths = glob.glob(path)\n",
    "\n",
    "for path in imagePaths:\n",
    "    # Load the image\n",
    "    image = cv2.imread(path)\n",
    "    image_name = path.split('/')[-1]\n",
    "\n",
    "    # Create a CascadeClassifier object for license plate detection\n",
    "    plate_cascade = cv2.CascadeClassifier('haarcascade_russian_plate_number.xml')\n",
    "\n",
    "    # Convert the image to grayscale\n",
    "    gray = cv2.cvtColor(image, cv2.COLOR_BGR2GRAY)\n",
    "\n",
    "    # Detect license plates in the image\n",
    "    plates = plate_cascade.detectMultiScale(gray, scaleFactor=1.1, minNeighbors=5)\n",
    "    if len(plates) > 0:\n",
    "        mod_plates = []\n",
    "        for plate in plates:\n",
    "            (x, y, w, h) in plate\n",
    "            print(plate)\n",
    "            imageheight, _, _ = image.shape\n",
    "            if (y > 120):\n",
    "                mod_plates.append(plate)\n",
    "\n",
    "        # Optional: Draw rectangles around the detected license plates\n",
    "        # for (x, y, w, h) in plates:\n",
    "        #     cv2.rectangle(image, (x, y), (x+w, y+h), (0, 255, 0), 10)\n",
    "\n",
    "        # Apply Gaussian blurring to the detected license plates\n",
    "        for (x, y, w, h) in mod_plates:\n",
    "            roi = image[y:y+h, x:x+w]\n",
    "            blurred_roi = cv2.GaussianBlur(roi, (255, 255), 0)\n",
    "            image[y:y+h, x:x+w] = blurred_roi\n",
    "\n",
    "        # Optional: Display the image with the detected license plates\n",
    "        # cv2.imshow('Image', image)\n",
    "        # cv2.waitKey(0)\n",
    "        # cv2.destroyAllWindows()\n",
    "\n",
    "        # Save the anonymized image to disk\n",
    "        cv2.imwrite('./images_after_removal/' + image_name, image)"
   ]
  },
  {
   "cell_type": "code",
   "execution_count": null,
   "metadata": {},
   "outputs": [],
   "source": []
  }
 ],
 "metadata": {
  "kernelspec": {
   "display_name": "venv-idp",
   "language": "python",
   "name": "python3"
  },
  "language_info": {
   "codemirror_mode": {
    "name": "ipython",
    "version": 3
   },
   "file_extension": ".py",
   "mimetype": "text/x-python",
   "name": "python",
   "nbconvert_exporter": "python",
   "pygments_lexer": "ipython3",
   "version": "3.11.6"
  }
 },
 "nbformat": 4,
 "nbformat_minor": 2
}
